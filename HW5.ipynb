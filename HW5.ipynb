{
 "cells": [
  {
   "cell_type": "markdown",
   "metadata": {
    "id": "rg2DUS8mzIBq"
   },
   "source": [
    "# **Question 1** \n",
    "\n",
    "### **Part A**\n",
    "The adjacency matrix looks like,\n",
    "\n",
    "$A = \\begin{bmatrix}1&1&0&0\\\\0&1&1&1\\\\0&1&1&0\\\\1&0&1&1\n",
    "\\end{bmatrix}$\n",
    "\n",
    "### **Part B**\n",
    "Given the features of each node X, graph convolution, \n",
    "\n",
    "X' = relu(A*X)\n",
    "\n",
    "$X' = relu\\begin{pmatrix}\\begin{bmatrix}1&1&0&0\\\\0&1&1&1\\\\0&1&1&0\\\\1&0&1&1\n",
    "\\end{bmatrix}*\\begin{bmatrix}1&-1\\\\-2&0.5\\\\1&3\\\\0&-1\\end{bmatrix}\\end{pmatrix}$\n",
    "\n",
    "$X' = relu\\begin{pmatrix}\\begin{bmatrix}-1&-0.5\\\\-1&2.5\\\\-1&3.5\\\\2&1\n",
    "\\end{bmatrix}\\end{pmatrix}$\n",
    "\n",
    "$X' = \\begin{bmatrix}0&0\\\\0&2.5\\\\0&3.5\\\\2&1\n",
    "\\end{bmatrix}$\n",
    "\n",
    "### **Part C**\n",
    "\n",
    "$D=\\begin{bmatrix}2&0&0&0\\\\0&3&0&0\\\\0&0&2&0\\\\0&0&0&3\n",
    "\\end{bmatrix}$\n",
    "\n",
    "$D^{-1}=\\begin{bmatrix}\\frac{1}{2}&0&0&0\\\\0&\\frac{1}{3}&0&0\\\\0&0&\\frac{1}{2}&0\\\\0&0&0&\\frac{1}{3}\n",
    "\\end{bmatrix}$\n",
    "\n",
    "$A'=D^{-1}A=\\begin{bmatrix}\\frac{1}{2}&0&0&0\\\\0&\\frac{1}{3}&0&0\\\\0&0&\\frac{1}{2}&0\\\\0&0&0&\\frac{1}{3}\n",
    "\\end{bmatrix}\\begin{bmatrix}1&1&0&0\\\\0&1&1&1\\\\0&1&1&0\\\\1&0&1&1\n",
    "\\end{bmatrix}$\n",
    "\n",
    "$A'=\\begin{bmatrix}\\frac{1}{2}&\\frac{1}{2}&0&0\\\\0&\\frac{1}{3}&\\frac{1}{3}&\\frac{1}{3}\\\\0&\\frac{1}{2}&\\frac{1}{2}&0\\\\\\frac{1}{3}&0&\\frac{1}{3}&\\frac{1}{3}\n",
    "\\end{bmatrix}$\n",
    "\n",
    "Now, we find relu(A'X)\n",
    "\n",
    "$relu(A'X)=relu\\begin{pmatrix}\\begin{bmatrix}\\frac{1}{2}&\\frac{1}{2}&0&0\\\\0&\\frac{1}{3}&\\frac{1}{3}&\\frac{1}{3}\\\\0&\\frac{1}{2}&\\frac{1}{2}&0\\\\\\frac{1}{3}&0&\\frac{1}{3}&\\frac{1}{3}\n",
    "\\end{bmatrix}*\\begin{bmatrix}1&-1\\\\-2&0.5\\\\1&3\\\\0&-1\\end{bmatrix}\\end{pmatrix}$\n",
    "\n",
    "$relu(A'X)=relu\\begin{pmatrix}\\begin{bmatrix}-\\frac{1}{2}&-\\frac{1}{4}\\\\-\\frac{1}{3}&\\frac{5}{6}\\\\-\\frac{1}{2}&\\frac{7}{4}\\\\\\frac{2}{3}&\\frac{1}{3}\n",
    "\\end{bmatrix}\\end{pmatrix}$\n",
    "\n",
    "$relu(A'X)\\begin{bmatrix}0&0\\\\0&\\frac{5}{6}\\\\0&\\frac{7}{4}\\\\\\frac{2}{3}&\\frac{1}{3}\n",
    "\\end{bmatrix}$\n",
    "\n",
    "\n",
    "\n"
   ]
  },
  {
   "cell_type": "code",
   "execution_count": 1,
   "metadata": {
    "colab": {
     "base_uri": "https://localhost:8080/",
     "height": 1371
    },
    "id": "sIexQGGlqiY0",
    "outputId": "896bbeba-e20b-44bd-8319-2a1e8acdbb21"
   },
   "outputs": [
    {
     "name": "stdout",
     "output_type": "stream",
     "text": [
      "\u001b[33mWARNING: Skipping torch-scatter as it is not installed.\u001b[0m\u001b[33m\n",
      "\u001b[0m\u001b[33mWARNING: Skipping torch-sparse as it is not installed.\u001b[0m\u001b[33m\n",
      "\u001b[0m\u001b[33mWARNING: Skipping torch-geometric as it is not installed.\u001b[0m\u001b[33m\n",
      "\u001b[0m\u001b[33mWARNING: Skipping torch-cluster as it is not installed.\u001b[0m\u001b[33m\n",
      "\u001b[0mLooking in indexes: https://pypi.org/simple, https://us-python.pkg.dev/colab-wheels/public/simple/\n",
      "Looking in links: https://data.pyg.org/whl/torch-1.13.1+cu116.html\n",
      "Collecting torch-scatter\n",
      "  Downloading https://data.pyg.org/whl/torch-1.13.0%2Bcu116/torch_scatter-2.1.0%2Bpt113cu116-cp38-cp38-linux_x86_64.whl (9.4 MB)\n",
      "\u001b[2K     \u001b[90m━━━━━━━━━━━━━━━━━━━━━━━━━━━━━━━━━━━━━━━━\u001b[0m \u001b[32m9.4/9.4 MB\u001b[0m \u001b[31m43.7 MB/s\u001b[0m eta \u001b[36m0:00:00\u001b[0m\n",
      "\u001b[?25hInstalling collected packages: torch-scatter\n",
      "Successfully installed torch-scatter-2.1.0+pt113cu116\n",
      "Looking in indexes: https://pypi.org/simple, https://us-python.pkg.dev/colab-wheels/public/simple/\n",
      "Looking in links: https://data.pyg.org/whl/torch-1.13.1+cu116.html\n",
      "Collecting torch-sparse\n",
      "  Downloading https://data.pyg.org/whl/torch-1.13.0%2Bcu116/torch_sparse-0.6.16%2Bpt113cu116-cp38-cp38-linux_x86_64.whl (4.5 MB)\n",
      "\u001b[2K     \u001b[90m━━━━━━━━━━━━━━━━━━━━━━━━━━━━━━━━━━━━━━━━\u001b[0m \u001b[32m4.5/4.5 MB\u001b[0m \u001b[31m23.4 MB/s\u001b[0m eta \u001b[36m0:00:00\u001b[0m\n",
      "\u001b[?25hRequirement already satisfied: scipy in /usr/local/lib/python3.8/dist-packages (from torch-sparse) (1.7.3)\n",
      "Requirement already satisfied: numpy<1.23.0,>=1.16.5 in /usr/local/lib/python3.8/dist-packages (from scipy->torch-sparse) (1.22.4)\n",
      "Installing collected packages: torch-sparse\n",
      "Successfully installed torch-sparse-0.6.16+pt113cu116\n",
      "Looking in indexes: https://pypi.org/simple, https://us-python.pkg.dev/colab-wheels/public/simple/\n",
      "Looking in links: https://data.pyg.org/whl/torch-1.13.1+cu116.html\n",
      "Collecting torch-cluster\n",
      "  Downloading https://data.pyg.org/whl/torch-1.13.0%2Bcu116/torch_cluster-1.6.0%2Bpt113cu116-cp38-cp38-linux_x86_64.whl (3.2 MB)\n",
      "\u001b[2K     \u001b[90m━━━━━━━━━━━━━━━━━━━━━━━━━━━━━━━━━━━━━━━━\u001b[0m \u001b[32m3.2/3.2 MB\u001b[0m \u001b[31m47.2 MB/s\u001b[0m eta \u001b[36m0:00:00\u001b[0m\n",
      "\u001b[?25hRequirement already satisfied: scipy in /usr/local/lib/python3.8/dist-packages (from torch-cluster) (1.7.3)\n",
      "Requirement already satisfied: numpy<1.23.0,>=1.16.5 in /usr/local/lib/python3.8/dist-packages (from scipy->torch-cluster) (1.22.4)\n",
      "Installing collected packages: torch-cluster\n",
      "Successfully installed torch-cluster-1.6.0+pt113cu116\n",
      "Looking in indexes: https://pypi.org/simple, https://us-python.pkg.dev/colab-wheels/public/simple/\n",
      "Collecting git+https://github.com/pyg-team/pytorch_geometric.git\n",
      "  Cloning https://github.com/pyg-team/pytorch_geometric.git to /tmp/pip-req-build-nfbdg73q\n",
      "  Running command git clone --filter=blob:none --quiet https://github.com/pyg-team/pytorch_geometric.git /tmp/pip-req-build-nfbdg73q\n",
      "  Resolved https://github.com/pyg-team/pytorch_geometric.git to commit 0224fd64437c12e3292ddf70e11d7ae2279df8c7\n",
      "  Installing build dependencies ... \u001b[?25l\u001b[?25hdone\n",
      "  Getting requirements to build wheel ... \u001b[?25l\u001b[?25hdone\n",
      "  Preparing metadata (pyproject.toml) ... \u001b[?25l\u001b[?25hdone\n",
      "Requirement already satisfied: requests in /usr/local/lib/python3.8/dist-packages (from torch-geometric==2.3.0) (2.25.1)\n",
      "Requirement already satisfied: numpy in /usr/local/lib/python3.8/dist-packages (from torch-geometric==2.3.0) (1.22.4)\n",
      "Requirement already satisfied: pyparsing in /usr/local/lib/python3.8/dist-packages (from torch-geometric==2.3.0) (3.0.9)\n",
      "Collecting psutil>=5.8.0\n",
      "  Downloading psutil-5.9.4-cp36-abi3-manylinux_2_12_x86_64.manylinux2010_x86_64.manylinux_2_17_x86_64.manylinux2014_x86_64.whl (280 kB)\n",
      "\u001b[2K     \u001b[90m━━━━━━━━━━━━━━━━━━━━━━━━━━━━━━━━━━━━━━\u001b[0m \u001b[32m280.2/280.2 KB\u001b[0m \u001b[31m18.2 MB/s\u001b[0m eta \u001b[36m0:00:00\u001b[0m\n",
      "\u001b[?25hRequirement already satisfied: tqdm in /usr/local/lib/python3.8/dist-packages (from torch-geometric==2.3.0) (4.64.1)\n",
      "Requirement already satisfied: scipy in /usr/local/lib/python3.8/dist-packages (from torch-geometric==2.3.0) (1.7.3)\n",
      "Requirement already satisfied: scikit-learn in /usr/local/lib/python3.8/dist-packages (from torch-geometric==2.3.0) (1.0.2)\n",
      "Requirement already satisfied: jinja2 in /usr/local/lib/python3.8/dist-packages (from torch-geometric==2.3.0) (2.11.3)\n",
      "Requirement already satisfied: MarkupSafe>=0.23 in /usr/local/lib/python3.8/dist-packages (from jinja2->torch-geometric==2.3.0) (2.0.1)\n",
      "Requirement already satisfied: chardet<5,>=3.0.2 in /usr/local/lib/python3.8/dist-packages (from requests->torch-geometric==2.3.0) (4.0.0)\n",
      "Requirement already satisfied: urllib3<1.27,>=1.21.1 in /usr/local/lib/python3.8/dist-packages (from requests->torch-geometric==2.3.0) (1.24.3)\n",
      "Requirement already satisfied: certifi>=2017.4.17 in /usr/local/lib/python3.8/dist-packages (from requests->torch-geometric==2.3.0) (2022.12.7)\n",
      "Requirement already satisfied: idna<3,>=2.5 in /usr/local/lib/python3.8/dist-packages (from requests->torch-geometric==2.3.0) (2.10)\n",
      "Requirement already satisfied: joblib>=0.11 in /usr/local/lib/python3.8/dist-packages (from scikit-learn->torch-geometric==2.3.0) (1.2.0)\n",
      "Requirement already satisfied: threadpoolctl>=2.0.0 in /usr/local/lib/python3.8/dist-packages (from scikit-learn->torch-geometric==2.3.0) (3.1.0)\n",
      "Building wheels for collected packages: torch-geometric\n",
      "  Building wheel for torch-geometric (pyproject.toml) ... \u001b[?25l\u001b[?25hdone\n",
      "  Created wheel for torch-geometric: filename=torch_geometric-2.3.0-py3-none-any.whl size=871085 sha256=ce791124eb4a9c3fa1211fc6ec7d5f442af64072bcb85f1630dbb8eb6d3b6ce9\n",
      "  Stored in directory: /tmp/pip-ephem-wheel-cache-5emicdn8/wheels/ba/e1/8e/28297c3201c884d3ea8c47ba71a9e71e547e556c0caa9cf5a2\n",
      "Successfully built torch-geometric\n",
      "Installing collected packages: psutil, torch-geometric\n",
      "  Attempting uninstall: psutil\n",
      "    Found existing installation: psutil 5.4.8\n",
      "    Uninstalling psutil-5.4.8:\n",
      "      Successfully uninstalled psutil-5.4.8\n",
      "Successfully installed psutil-5.9.4 torch-geometric-2.3.0\n"
     ]
    },
    {
     "data": {
      "application/vnd.colab-display-data+json": {
       "pip_warning": {
        "packages": [
         "psutil"
        ]
       }
      }
     },
     "metadata": {},
     "output_type": "display_data"
    },
    {
     "name": "stdout",
     "output_type": "stream",
     "text": [
      "Looking in indexes: https://pypi.org/simple, https://us-python.pkg.dev/colab-wheels/public/simple/\n",
      "Collecting rdkit\n",
      "  Downloading rdkit-2022.9.4-cp38-cp38-manylinux_2_17_x86_64.manylinux2014_x86_64.whl (29.3 MB)\n",
      "\u001b[2K     \u001b[90m━━━━━━━━━━━━━━━━━━━━━━━━━━━━━━━━━━━━━━━━\u001b[0m \u001b[32m29.3/29.3 MB\u001b[0m \u001b[31m48.1 MB/s\u001b[0m eta \u001b[36m0:00:00\u001b[0m\n",
      "\u001b[?25hRequirement already satisfied: Pillow in /usr/local/lib/python3.8/dist-packages (from rdkit) (7.1.2)\n",
      "Requirement already satisfied: numpy in /usr/local/lib/python3.8/dist-packages (from rdkit) (1.22.4)\n",
      "Installing collected packages: rdkit\n",
      "Successfully installed rdkit-2022.9.4\n"
     ]
    }
   ],
   "source": [
    "import torch\n",
    "\n",
    "!pip uninstall torch-scatter torch-sparse torch-geometric torch-cluster  --y\n",
    "!pip install torch-scatter -f https://data.pyg.org/whl/torch-{torch.__version__}.html\n",
    "!pip install torch-sparse -f https://data.pyg.org/whl/torch-{torch.__version__}.html\n",
    "!pip install torch-cluster -f https://data.pyg.org/whl/torch-{torch.__version__}.html\n",
    "!pip install git+https://github.com/pyg-team/pytorch_geometric.git\n",
    "!pip install rdkit"
   ]
  },
  {
   "cell_type": "code",
   "execution_count": 2,
   "metadata": {
    "id": "RB97J1PRhCXk"
   },
   "outputs": [],
   "source": [
    "import numpy as np\n",
    "import pandas as pd\n",
    "import matplotlib.pyplot as plt\n",
    "from rdkit import Chem\n",
    "import torch\n",
    "import torch.nn.functional as F\n",
    "from torch import nn\n",
    "from torch.nn import Linear\n",
    "from torch_geometric.data import Data\n",
    "from torch_geometric.data import DataLoader\n",
    "import torch_geometric.transforms as T\n",
    "from torch_geometric.nn import global_max_pool\n",
    "from torch_geometric.nn import GCNConv, ChebConv"
   ]
  },
  {
   "cell_type": "code",
   "execution_count": 3,
   "metadata": {
    "id": "1RPAWJVAhPOM"
   },
   "outputs": [],
   "source": [
    "def get_dataset(save_path):\n",
    "\t'''\n",
    "\tread data from .npy file \n",
    "\tno need to modify this function\n",
    "\t'''\n",
    "\traw_data = np.load(save_path, allow_pickle=True)\n",
    "\tdataset = []\n",
    "\tfor i, (node_f, edge_index, edge_attr, y)in enumerate(raw_data):\n",
    "\t\tsample = Data(\n",
    "\t\t\tx=torch.tensor(node_f, dtype=torch.float),\n",
    "\t\t\ty=torch.tensor([y], dtype=torch.float),\n",
    "\t\t\tedge_index=torch.tensor(edge_index, dtype=torch.long),\n",
    "\t\t\tedge_attr=torch.tensor(edge_attr, dtype=torch.float)\n",
    "\t\t)\n",
    "\t\tdataset.append(sample)\n",
    "\treturn dataset"
   ]
  },
  {
   "cell_type": "code",
   "execution_count": 4,
   "metadata": {
    "id": "esH-2EPmhWGX"
   },
   "outputs": [],
   "source": [
    "from torch._C import Graph\n",
    "class GraphNet(nn.Module):\n",
    "  def __init__(self, n_features):\n",
    "    super(GraphNet,self).__init__()\n",
    "    self.embed = nn.Linear(n_features, 500)\n",
    "    self.conv1 = GCNConv(500, 300, normalize=True)\n",
    "    self.out_layer = nn.Linear(300, 1)\n",
    "\n",
    "  def forward(self,data):\n",
    "    x, edge_index = data.x, data.edge_index\n",
    "    x = self.embed(x.type(torch.FloatTensor))\n",
    "    x = F.relu(self.conv1(x, edge_index))\n",
    "    x = F.dropout(x, training=self.training,p=0.01)\n",
    "\n",
    "    x = global_max_pool(x, data.batch)\n",
    "    \n",
    "    return self.out_layer(x)"
   ]
  },
  {
   "cell_type": "code",
   "execution_count": 5,
   "metadata": {
    "colab": {
     "base_uri": "https://localhost:8080/",
     "height": 648
    },
    "id": "XiXwyUyYhZok",
    "outputId": "c6edb71b-eba5-4f6a-fbc7-354c89983bb0"
   },
   "outputs": [
    {
     "name": "stderr",
     "output_type": "stream",
     "text": [
      "<ipython-input-3-fc9b8e78a3d3>:10: UserWarning: Creating a tensor from a list of numpy.ndarrays is extremely slow. Please consider converting the list to a single numpy.ndarray with numpy.array() before converting to a tensor. (Triggered internally at ../torch/csrc/utils/tensor_new.cpp:230.)\n",
      "  x=torch.tensor(node_f, dtype=torch.float),\n",
      "/usr/local/lib/python3.8/dist-packages/torch_geometric/deprecation.py:22: UserWarning: 'data.DataLoader' is deprecated, use 'loader.DataLoader' instead\n",
      "  warnings.warn(out)\n"
     ]
    },
    {
     "name": "stdout",
     "output_type": "stream",
     "text": [
      "67.47521769074261\n"
     ]
    },
    {
     "data": {
      "image/png": "[encoded data removed]",
      "text/plain": [
       "<Figure size 432x288 with 1 Axes>"
      ]
     },
     "metadata": {
      "needs_background": "light"
     },
     "output_type": "display_data"
    },
    {
     "data": {
      "image/png": "[encoded data removed]",
      "text/plain": [
       "<Figure size 432x288 with 1 Axes>"
      ]
     },
     "metadata": {
      "needs_background": "light"
     },
     "output_type": "display_data"
    }
   ],
   "source": [
    "def train(model,train_loader):\n",
    "  model.train()\n",
    "  optimizer = torch.optim.Adam(model.parameters(), lr=0.0001, weight_decay=1e-5)\n",
    "  mse_error = 0.0\n",
    "  for i, data in enumerate(train_loader):\n",
    "    optimizer.zero_grad()\n",
    "\n",
    "    pred = model(data)\n",
    "    label = data.y[0]\n",
    "\n",
    "    loss = F.mse_loss(pred.squeeze(), label)\n",
    "    loss.backward()\n",
    "\n",
    "    optimizer.step()\n",
    "\n",
    "    mse_error += loss.item()\n",
    "  return mse_error / (i+1),label,pred.squeeze()\n",
    "\n",
    "def test(model,test_loader):\n",
    "  model.eval()\n",
    "  mse_error = 0.0\n",
    "  optimizer = torch.optim.Adam(model.parameters(), lr=0.0001, weight_decay=1e-5)\n",
    "  for i, data in enumerate(test_loader):\n",
    "    optimizer.zero_grad()\n",
    "\n",
    "    pred = model(data)\n",
    "    label = data.y[0]\n",
    "\n",
    "    loss = F.mse_loss(pred.squeeze(), label)\n",
    "    loss.backward()\n",
    "\n",
    "    optimizer.step()\n",
    "\n",
    "    mse_error += loss.item()\n",
    "  return mse_error / (i+1),label,pred.squeeze()\n",
    "\n",
    "\n",
    "def main():\n",
    "  # load data and build the data loader\n",
    "  train_set = get_dataset('/content/drive/MyDrive/Intro_to_DL/HW_5/train_set.npy')\n",
    "  test_set = get_dataset('/content/drive/MyDrive/Intro_to_DL/HW_5/test_set.npy')\n",
    "  train_loader = DataLoader(train_set, batch_size=1, shuffle=True)\n",
    "  test_loader = DataLoader(test_set, batch_size=1, shuffle=False)\n",
    "\n",
    "  # number of features in the dataset\n",
    "  # no need to change the value\n",
    "  n_features = 37\n",
    "\n",
    "  # build your GNN model\n",
    "  model = GraphNet(n_features)\n",
    "  total_test_loss=0\n",
    "  # define your loss and optimizer\n",
    "  hist = {\"train_loss\":[], \"test_loss\":[]}\n",
    "  predictions={\"train_loss\":[], \"test_loss\":[]}\n",
    "  labeled={\"train_loss\":[], \"test_loss\":[]}\n",
    "  num_epoch = 50\n",
    "  for epoch in range(1, 1+num_epoch):\n",
    "    train_error = train(model,train_loader)\n",
    "    test_error = test(model,test_loader)\n",
    "    hist[\"train_loss\"].append(train_error[0])\n",
    "    hist[\"test_loss\"].append(test_error[0])\n",
    "    predictions['train_loss'].append(train_error[1])\n",
    "    predictions['test_loss'].append(train_error[1])\n",
    "    labeled['train_loss'].append(train_error[1])\n",
    "    labeled['test_loss'].append(train_error[1])\n",
    "    total_test_loss+=test_error[0]\n",
    "  print(total_test_loss)\n",
    "\t# visualization\n",
    "\t# plot loss function\n",
    "  ax = plt.subplot(1,1,1)\n",
    "  ax.plot([e for e in range(1,1+num_epoch)], hist[\"train_loss\"], label=\"train loss\")\n",
    "  ax.plot([e for e in range(1,1+num_epoch)], hist[\"test_loss\"], label=\"test loss\")\n",
    "  plt.xlabel(\"epoch\")\n",
    "  plt.ylabel(\"loss\")\n",
    "  ax.legend()\n",
    "  plt.show()\n",
    "\n",
    "\t# # plot prediction vs. label\n",
    "  x = np.linspace(np.min(predictions['train_loss']), np.max(predictions['train_loss']))\n",
    "  y = np.linspace(np.min(predictions['train_loss']), np.max(predictions['train_loss']))\n",
    "  ax = plt.subplot(1,1,1)\n",
    "  ax.scatter(labeled['test_loss'], predictions['test_loss'], marker='+', c='red')\n",
    "  ax.plot(x, y, '--')\n",
    "  plt.xlabel(\"prediction\")\n",
    "  plt.ylabel(\"label\")\n",
    "  plt.show()\n",
    "\n",
    "\n",
    "if __name__ == \"__main__\":\n",
    "\tmain()"
   ]
  },
  {
   "cell_type": "markdown",
   "metadata": {
    "id": "MX-kHW_D7vVA"
   },
   "source": [
    "From the above plot we can see that the model has a **test mse of 67.45 over 50 epochs**. "
   ]
  }
 ],
 "metadata": {
  "colab": {
   "provenance": []
  },
  "gpuClass": "standard",
  "kernelspec": {
   "display_name": "Python 3 (ipykernel)",
   "language": "python",
   "name": "python3"
  },
  "language_info": {
   "codemirror_mode": {
    "name": "ipython",
    "version": 3
   },
   "file_extension": ".py",
   "mimetype": "text/x-python",
   "name": "python",
   "nbconvert_exporter": "python",
   "pygments_lexer": "ipython3",
   "version": "3.9.12"
  }
 },
 "nbformat": 4,
 "nbformat_minor": 1
}
